{
  "nbformat": 4,
  "nbformat_minor": 0,
  "metadata": {
    "colab": {
      "name": "cbubble.ipynb",
      "provenance": [],
      "authorship_tag": "ABX9TyPfDdkT4LZEOMHTORrw9Sk3",
      "include_colab_link": true
    },
    "kernelspec": {
      "name": "python3",
      "display_name": "Python 3"
    },
    "language_info": {
      "name": "python"
    }
  },
  "cells": [
    {
      "cell_type": "markdown",
      "metadata": {
        "id": "view-in-github",
        "colab_type": "text"
      },
      "source": [
        "<a href=\"https://colab.research.google.com/github/dimicorn/bubbles/blob/master/cbubble.ipynb\" target=\"_parent\"><img src=\"https://colab.research.google.com/assets/colab-badge.svg\" alt=\"Open In Colab\"/></a>"
      ]
    },
    {
      "cell_type": "code",
      "metadata": {
        "colab": {
          "base_uri": "https://localhost:8080/"
        },
        "id": "eTYcIzpRhh9h",
        "outputId": "71465117-7de0-48b7-dc2f-d6ef2dec2b57"
      },
      "source": [
        "%%writefile bubble.cpp\n",
        "\n",
        "#include <iostream>\n",
        "\n",
        "int main(){\n",
        "    std::cout << \"Hello World\" << std::endl;\n",
        "    return 0;\n",
        "}"
      ],
      "execution_count": 1,
      "outputs": [
        {
          "output_type": "stream",
          "name": "stdout",
          "text": [
            "Writing bubble.cpp\n"
          ]
        }
      ]
    },
    {
      "cell_type": "code",
      "metadata": {
        "colab": {
          "base_uri": "https://localhost:8080/"
        },
        "id": "rLV9TfzSh7mk",
        "outputId": "05d7fce6-be75-450b-c4fc-b9aaf1995127"
      },
      "source": [
        "%%bash\n",
        "g++ bubble.cpp -o output1\n",
        "./output1"
      ],
      "execution_count": 2,
      "outputs": [
        {
          "output_type": "stream",
          "name": "stdout",
          "text": [
            "Hello World\n"
          ]
        }
      ]
    }
  ]
}